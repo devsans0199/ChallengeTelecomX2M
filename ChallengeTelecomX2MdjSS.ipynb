{
  "nbformat": 4,
  "nbformat_minor": 0,
  "metadata": {
    "colab": {
      "provenance": [],
      "authorship_tag": "ABX9TyOWMXZZR7kyLr0XPN61CIKU"
    },
    "kernelspec": {
      "name": "python3",
      "display_name": "Python 3"
    },
    "language_info": {
      "name": "python"
    }
  },
  "cells": [
    {
      "cell_type": "code",
      "execution_count": null,
      "metadata": {
        "id": "1DwKSizsa7MZ"
      },
      "outputs": [],
      "source": [
        "# telecom_churn_prediction.py\n",
        "\n",
        "# Importar bibliotecas necesarias\n",
        "import pandas as pd\n",
        "import numpy as np\n",
        "import matplotlib.pyplot as plt\n",
        "import seaborn as sns\n",
        "from sklearn.model_selection import train_test_split\n",
        "from sklearn.preprocessing import StandardScaler\n",
        "from sklearn.ensemble import RandomForestClassifier\n",
        "from sklearn.metrics import classification_report, confusion_matrix\n",
        "\n",
        "# Cargar los datos\n",
        "data = pd.read_csv('telecom_data.csv')  # Asegúrate de tener el archivo CSV\n",
        "\n",
        "# Exploración inicial de los datos\n",
        "print(data.head())\n",
        "print(data.info())\n",
        "print(data.describe())\n",
        "\n",
        "# Preparación de los datos\n",
        "# Eliminar columnas irrelevantes\n",
        "data.drop(columns=['column_to_drop1', 'column_to_drop2'], inplace=True)\n",
        "\n",
        "# Verificar la proporción de cancelación\n",
        "print(data['churn'].value_counts(normalize=True))\n",
        "\n",
        "# Dividir los datos en características (X) y etiqueta (y)\n",
        "X = data.drop('churn', axis=1)\n",
        "y = data['churn']\n",
        "\n",
        "# Dividir el conjunto de datos en entrenamiento y prueba\n",
        "X_train, X_test, y_train, y_test = train_test_split(X, y, test_size=0.2, random_state=42)\n",
        "\n",
        "# Normalizar los datos\n",
        "scaler = StandardScaler()\n",
        "X_train = scaler.fit_transform(X_train)\n",
        "X_test = scaler.transform(X_test)\n",
        "\n",
        "# Construir el modelo de Machine Learning\n",
        "model = RandomForestClassifier(n_estimators=100, random_state=42)\n",
        "model.fit(X_train, y_train)\n",
        "\n",
        "# Realizar predicciones\n",
        "y_pred = model.predict(X_test)\n",
        "\n",
        "# Evaluar el modelo\n",
        "print(confusion_matrix(y_test, y_pred))\n",
        "print(classification_report(y_test, y_pred))\n",
        "\n",
        "# Análisis de importancia de las variables\n",
        "importances = model.feature_importances_\n",
        "indices = np.argsort(importances)[::-1]\n",
        "\n",
        "# Visualizar la importancia de las variables\n",
        "plt.figure()\n",
        "plt.title(\"Importancia de las variables\")\n",
        "plt.bar(range(X.shape[1]), importances[indices], align=\"center\")\n",
        "plt.xticks(range(X.shape[1]), X.columns[indices], rotation=90)\n",
        "plt.xlim([-1, X.shape[1]])\n",
        "plt.show()\n"
      ]
    }
  ]
}